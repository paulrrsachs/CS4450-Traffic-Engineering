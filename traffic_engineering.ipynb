{
 "cells": [
  {
   "cell_type": "markdown",
   "id": "49dbc20b",
   "metadata": {},
   "source": [
    "# Software Defined Network Traffic Engineering\n",
    "\n",
    "### Team: Networksfinalprojectteam\n",
    "\n",
    "### Collaborators:\n",
    "-  Paul Sachs (prs242)\n",
    "-  Ariela Gettig (aqg3)\n",
    "-  Kelvin Wang (klw248)\n",
    "-  Samuel Qian (scq5)\n"
   ]
  },
  {
   "cell_type": "code",
   "execution_count": 15,
   "id": "a2445f8b",
   "metadata": {},
   "outputs": [],
   "source": [
    "#Inital Imports\n",
    "import numpy as np\n",
    "import networkx as nx\n",
    "import pandas"
   ]
  },
  {
   "cell_type": "markdown",
   "id": "58fd78f5",
   "metadata": {},
   "source": [
    "## Step 1: Parse Network Topology and load Demands"
   ]
  },
  {
   "cell_type": "code",
   "execution_count": 10,
   "id": "7863d18f",
   "metadata": {},
   "outputs": [],
   "source": [
    "#TODO"
   ]
  },
  {
   "cell_type": "markdown",
   "id": "7de399b1",
   "metadata": {},
   "source": [
    "## Step 2: Visualize Graph"
   ]
  },
  {
   "cell_type": "code",
   "execution_count": 11,
   "id": "48422fd7",
   "metadata": {},
   "outputs": [],
   "source": [
    "#TODO"
   ]
  },
  {
   "cell_type": "markdown",
   "id": "68d07c1a",
   "metadata": {},
   "source": [
    "## Step 3: Parse Traffic Demands"
   ]
  },
  {
   "cell_type": "code",
   "execution_count": 12,
   "id": "54b7ef0f",
   "metadata": {},
   "outputs": [],
   "source": [
    "#TODO"
   ]
  },
  {
   "cell_type": "markdown",
   "id": "2eaeb3fa",
   "metadata": {},
   "source": [
    "## Step 4: Traffic Algorithm: Maximize Total Throughput\n"
   ]
  },
  {
   "cell_type": "code",
   "execution_count": 13,
   "id": "80ebc9e0",
   "metadata": {},
   "outputs": [],
   "source": [
    "#TODO"
   ]
  },
  {
   "cell_type": "markdown",
   "id": "518fb8b7",
   "metadata": {},
   "source": [
    "## Step 5: Traffic Algorithm: Maximize Link Utilization"
   ]
  },
  {
   "cell_type": "code",
   "execution_count": 14,
   "id": "b9891fed",
   "metadata": {},
   "outputs": [],
   "source": [
    "#TODO"
   ]
  },
  {
   "cell_type": "markdown",
   "id": "f7939dea",
   "metadata": {},
   "source": [
    "## Step 6: Compare Algorithms\n",
    "\n",
    "TODO"
   ]
  },
  {
   "cell_type": "markdown",
   "id": "de9b825e",
   "metadata": {},
   "source": [
    "## Step 7 (EXTRA CREDIT): Scaling with Topology Size"
   ]
  },
  {
   "cell_type": "code",
   "execution_count": null,
   "id": "e76f38f3",
   "metadata": {},
   "outputs": [],
   "source": []
  }
 ],
 "metadata": {
  "kernelspec": {
   "display_name": "Python 3 (ipykernel)",
   "language": "python",
   "name": "python3"
  },
  "language_info": {
   "codemirror_mode": {
    "name": "ipython",
    "version": 3
   },
   "file_extension": ".py",
   "mimetype": "text/x-python",
   "name": "python",
   "nbconvert_exporter": "python",
   "pygments_lexer": "ipython3",
   "version": "3.8.10"
  }
 },
 "nbformat": 4,
 "nbformat_minor": 5
}
